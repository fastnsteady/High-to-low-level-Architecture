{
 "cells": [
  {
   "cell_type": "code",
   "execution_count": 1,
   "id": "d4367d4b-7da9-4e6b-b149-29dc3171f2d6",
   "metadata": {},
   "outputs": [],
   "source": [
    "import ollama\n",
    "from IPython.display import Markdown, display\n",
    "import markdown2\n",
    "\n",
    "import tempfile\n",
    "import os"
   ]
  },
  {
   "cell_type": "code",
   "execution_count": 3,
   "id": "39107535-0e96-4055-a809-3bc503abf262",
   "metadata": {},
   "outputs": [],
   "source": [
    "def generate_prompt(requirement: str) -> str:\n",
    "    return f\"\"\"\n",
    "You are a senior software architect.\n",
    "\n",
    "Given the high-level business requirement below, convert it into low-level technical details. Output only what's essential. Use this format exactly:\n",
    "\n",
    "High-Level Requirement:\n",
    "\\\"\\\"\\\"\n",
    "{requirement}\n",
    "\\\"\\\"\\\"\n",
    "\n",
    "## Tech Stack\n",
    "- [Technology Name]: [Purpose]\n",
    "## APIs required\n",
    "- [API name] : [Purpose]\n",
    "## Modules\n",
    "- [Module Name]: [One-line description]\n",
    "\n",
    "## Database Schema\n",
    "[table_name]\n",
    "- column_name: TYPE\n",
    "\n",
    "## Pseudocode\n",
    "```python\n",
    "# Only the most essential classes and methods\n",
    "Be precise, terse, and comprehensive. If LLMs, APIs, or external platforms are needed (like OpenAI or Blogger API), include them in Tech Stack.\n",
    "\"\"\"\n"
   ]
  },
  {
   "cell_type": "code",
   "execution_count": 5,
   "id": "0b0b0e63-5b90-4291-8d8b-cf9260d90e99",
   "metadata": {},
   "outputs": [],
   "source": [
    "def get_low_level_output(requirement: str) -> str:\n",
    "    prompt = generate_prompt(requirement)\n",
    "    response = ollama.chat(\n",
    "    model='llama3',\n",
    "    messages=[\n",
    "    {'role': 'user', 'content': prompt}\n",
    "    ]\n",
    "    )\n",
    "    return response['message']['content']\n"
   ]
  },
  {
   "cell_type": "code",
   "execution_count": 7,
   "id": "f50e1a9c-a8f8-49e2-8f49-7017a12fafe9",
   "metadata": {},
   "outputs": [
    {
     "name": "stdin",
     "output_type": "stream",
     "text": [
      "Enter your high-level requirement:  Objective: Create an AI based application or tool which generates videos while scrapping trending news articles. • Pipeline Details: o Pick trending topics and content (e.g., from a news article or trending social media hashtag). o Generate a short script based on the topic (use a simple AI-based script generator or write it yourself). o Generate 30-60 second videos with text overlays and images based on the script (use Generative AI video generation tool)\n"
     ]
    },
    {
     "data": {
      "text/markdown": [
       "Here's the converted low-level technical details:\n",
       "\n",
       "High-Level Requirement:\n",
       "\"\"\"\n",
       "Objective: Create an AI-based application that generates videos by scraping trending news articles.\n",
       "• Pipeline Details:\n",
       "    o Pick trending topics and content from a news article or social media hashtag.\n",
       "    o Generate a short script based on the topic using a simple AI-based script generator (e.g., OpenAI's Codex).\n",
       "    o Generate 30-60 second videos with text overlays and images based on the script using Generative AI video generation tool (e.g., LLaMA, Wibbitz).\n",
       "\"\"\"\n",
       "\n",
       "## Tech Stack\n",
       "- Python: Core programming language\n",
       "- OpenAI's Codex: Simple AI-based script generator for topic analysis\n",
       "- LLaMA/Wibbitz: Generative AI video generation tools for creating videos\n",
       "\n",
       "## APIs required\n",
       "- News API (e.g., Google News, Bing News): For scraping trending news articles and topics\n",
       "- Social Media API (e.g., Twitter, Facebook): For scraping social media hashtags and trends\n",
       "\n",
       "## Modules\n",
       "- ArticleScraper: Module for scraping news articles from various sources\n",
       "- TopicAnalyzer: Module for analyzing topic relevance and generating short scripts\n",
       "- VideoGenerator: Module for creating videos with text overlays and images based on the script\n",
       "\n",
       "## Database Schema\n",
       "### News Articles Table\n",
       "- article_id (primary key, int)\n",
       "- title (varchar)\n",
       "- content (text)\n",
       "- publication_date (datetime)\n",
       "\n",
       "### Scripts Table\n",
       "- script_id (primary key, int)\n",
       "- topic (varchar)\n",
       "- content (text)\n",
       "\n",
       "### Videos Table\n",
       "- video_id (primary key, int)\n",
       "- script_id (foreign key to Scripts table)\n",
       "- duration (int)\n",
       "- upload_date (datetime)\n",
       "\n",
       "## Pseudocode\n",
       "```python\n",
       "class ArticleScraper:\n",
       "    def __init__(self):\n",
       "        self.news_api = NewsAPI()\n",
       "\n",
       "    def scrape_articles(self, topic):\n",
       "        articles = self.news_api.get_articles(topic)\n",
       "        return [Article(article) for article in articles]\n",
       "\n",
       "class TopicAnalyzer:\n",
       "    def __init__(self):\n",
       "        self.openai_codex = OpenAICodex()\n",
       "\n",
       "    def analyze_topic(self, topic):\n",
       "        script = self.openai_codex.generate_script(topic)\n",
       "        return script\n",
       "\n",
       "class VideoGenerator:\n",
       "    def __init__(self):\n",
       "        self.llama = LLaMA()\n",
       "\n",
       "    def generate_video(self, script):\n",
       "        video = self.llama.generate_video(script)\n",
       "        return video\n",
       "```\n",
       "Note that this is a high-level overview of the technical details, and you may need to add or modify components based on specific requirements."
      ],
      "text/plain": [
       "<IPython.core.display.Markdown object>"
      ]
     },
     "metadata": {},
     "output_type": "display_data"
    }
   ],
   "source": [
    "requirement = input(\"Enter your high-level requirement: \")\n",
    "response_md = get_low_level_output(requirement)\n",
    "display(Markdown(response_md))\n"
   ]
  },
  {
   "cell_type": "code",
   "execution_count": null,
   "id": "230dfe2d-eb99-45ad-930c-63c7fa109a80",
   "metadata": {},
   "outputs": [],
   "source": []
  }
 ],
 "metadata": {
  "kernelspec": {
   "display_name": "Python 3 (ipykernel)",
   "language": "python",
   "name": "python3"
  },
  "language_info": {
   "codemirror_mode": {
    "name": "ipython",
    "version": 3
   },
   "file_extension": ".py",
   "mimetype": "text/x-python",
   "name": "python",
   "nbconvert_exporter": "python",
   "pygments_lexer": "ipython3",
   "version": "3.11.5"
  }
 },
 "nbformat": 4,
 "nbformat_minor": 5
}
